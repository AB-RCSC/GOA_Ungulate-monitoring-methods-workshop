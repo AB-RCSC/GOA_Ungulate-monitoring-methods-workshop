{
 "cells": [
  {
   "cell_type": "markdown",
   "id": "e9fd5a01",
   "metadata": {},
   "source": [
    "# **GOA Ungulate monitoring methods workshop**\n",
    "<br/><br/>\n",
    "::::{grid}\n",
    ":gutter: 2\n",
    "\n",
    ":::{grid-item}\n",
    "<font size=\"4\">**June 4-6, 2024**</font>  \n",
    "\n",
    "Register here (need link)\n",
    ":::\n",
    "\n",
    ":::{grid-item}\n",
    "```{figure} ./MuleDeerHerdGordonCourt.661eabd220c747.21541121.jpg\n",
    ":height: 200px\n",
    ":align: center\n",
    "```\n",
    ":::\n",
    "\n",
    "::::\n",
    "\n",
    "::: {warning}\n",
    "Registration will close on **May 16th**\n",
    ":::\n",
    "\n",
    "*** \n",
    "## **Workshop Objective**\n",
    "\n",
    "To collectively explore **current and prospective** monitoring methods for ungulates, considering **opportunities, challenges, and barriers to implementation**, and **identify next steps towards application** of best methods to improve ungulate population management  \n",
    "\n",
    "*** \n",
    "## **Contact Information**\n",
    "\n",
    "If you have questions or would like further information, please contact Dr. Anne Hubbs, Alberta Environment & Protected Areas, [Anne.Hubbs@gov.ab.ca](mailto:Anne.Hubbs@gov.ab.ca).\n",
    "\n",
    "*** \n",
    "## **Ungulate Monitoring Methods Jurisdictional Survey**\n",
    "<https://form.jotform.com/241216843356254>\n",
    "\n",
    "Alberta Environment and Protected Areas (EPA) is interested in gathering insights from other jurisdictions regarding their current or proposed methods for monitoring ungulates. This information will aid us in evaluating options to address our management objectives and in determining opportunities for collaboration to address shared knowledge gaps.\n",
    "This survey is intended to be completed by a representative from each jurisdiction who is familiar with the monitoring methods used across the state or province (e.g., ungulate, or big game specialist).\n",
    "\n",
    "The survey takes about 10 minutes to complete.\n",
    "\n",
    "A summary of the results will be provided to participating jurisdictions.\n",
    "\n",
    "Thank you for your help. \n",
    "\n",
    "***\n",
    "## **Agenda**\n",
    "\n",
    "<object data=\"https://ab-rcsc.github.io/GOA_Ungulate-monitoring-methods-workshop/_downloads\n",
    "/f50cd11f3d1823f8b2f3f115bb19084c/Monitoring-Methods-Workshop-Draft-Condensed-Agenda-May-5-2024_AH_WithNotes3.pdf\" type=\"application/pdf\" width=\"840px\" height=\"660px\">\n",
    "    <embed src=\"https://ab-rcsc.github.io/GOA_Ungulate-monitoring-methods-workshop/_downloads\n",
    "/f50cd11f3d1823f8b2f3f115bb19084c/Monitoring-Methods-Workshop-Draft-Condensed-Agenda-May-5-2024_AH_WithNotes3.pdf\">\n",
    "        <p>This browser does not support PDFs. Please download the PDF to view it: <a href=\"https://ab-rcsc.github.io/GOA_Ungulate-monitoring-methods-workshop/_downloads\n",
    "/f50cd11f3d1823f8b2f3f115bb19084c/Monitoring-Methods-Workshop-Draft-Condensed-Agenda-May-5-2024_AH_WithNotes3.pdf\">Download PDF</a>.</p>\n",
    "    </embed>\n",
    "</object>   \n",
    "\n",
    "*Download the PDF* [Agenda - GOA Ungulate monitoring methods workshop](./files/Monitoring-Methods-Workshop-Draft-Condensed-Agenda-May-5-2024_AH_WithNotes3.pdf)\n",
    "\n",
    "***"
   ]
  }
 ],
 "metadata": {
  "editor_options": {
   "markdown": {
    "wrap": "none"
   }
  },
  "jupytext": {
   "formats": "md:myst",
   "text_representation": {
    "extension": ".md",
    "format_name": "myst",
    "format_version": "1.16",
    "jupytext_version": "1.16.1"
   }
  },
  "kernelspec": {
   "display_name": "Python 3",
   "language": "python",
   "name": "python3"
  },
  "language_info": {
   "codemirror_mode": {
    "name": "ipython",
    "version": 3
   },
   "file_extension": ".py",
   "mimetype": "text/x-python",
   "name": "python",
   "nbconvert_exporter": "python",
   "pygments_lexer": "ipython3",
   "version": "3.11.7"
  },
  "source_map": [
   16
  ]
 },
 "nbformat": 4,
 "nbformat_minor": 5
}