{
 "cells": [
  {
   "cell_type": "markdown",
   "id": "74161bac",
   "metadata": {},
   "source": [
    "# Info for Participants\n",
    "<object data=\"https://ab-rcsc.github.io/GOA_Ungulate-monitoring-methods-workshop/_downloads\n",
    "/da43668173720fac13561dd06ca200f9/Information-Package-for-Participants-May-7-2024.pdf\" type=\"application/pdf\" width=\"880px\" height=\"1120px\">\n",
    "    <embed src=\"https://ab-rcsc.github.io/GOA_Ungulate-monitoring-methods-workshop/_downloads\n",
    "/da43668173720fac13561dd06ca200f9/Information-Package-for-Participants-May-7-2024.pdf\">\n",
    "        <p>This browser does not support PDFs. Please download the PDF to view it: <a href=\"https://ab-rcsc.github.io/GOA_Ungulate-monitoring-methods-workshop/_downloads\n",
    "/da43668173720fac13561dd06ca200f9/Information-Package-for-Participants-May-7-2024.pdf\">Download PDF</a>.</p>\n",
    "    </embed>\n",
    "</object>   \n",
    "\n",
    "[*Download the PDF*](./files/Information-Package-for-Participants-May-7-2024.pdf)                                               \n",
    "\n",
    "***\n",
    "\n",
    "# Participant Contact Information\n",
    "<object data=\"https://ab-rcsc.github.io/GOA_Ungulate-monitoring-methods-workshop/_downloads\n",
    "/582ff291c3aa1b5bc066eda6eadbe374/Participant-Contact-Info_Dec-2024.pdf\" type=\"application/pdf\" width=\"1020px\" height=\"880px\">\n",
    "    <embed src=\"https://ab-rcsc.github.io/GOA_Ungulate-monitoring-methods-workshop/_downloads\n",
    "/582ff291c3aa1b5bc066eda6eadbe374/Participant-Contact-Info_Dec-2024.pdf\">\n",
    "        <p>This browser does not support PDFs. Please download the PDF to view it: <a href=\"https://ab-rcsc.github.io/GOA_Ungulate-monitoring-methods-workshop/_downloads\n",
    "/582ff291c3aa1b5bc066eda6eadbe374/Participant-Contact-Info_Dec-2024.pdf\">Download PDF</a>.</p>\n",
    "    </embed>\n",
    "</object>  \n",
    "\n",
    "[*Download the PDF*](./files/Participant-Contact-Info_Dec-2024.pdf)  \n",
    "\n",
    "[*Download the XLS*](./files/Workshop-Participants-Contact-Information_Dec-2024.xlsx)"
   ]
  }
 ],
 "metadata": {
  "editor_options": {
   "markdown": {
    "wrap": "none"
   }
  },
  "jupytext": {
   "formats": "md:myst",
   "text_representation": {
    "extension": ".md",
    "format_name": "myst",
    "format_version": "1.16",
    "jupytext_version": "1.16.1"
   }
  },
  "kernelspec": {
   "display_name": "Python 3",
   "language": "python",
   "name": "python3"
  },
  "language_info": {
   "codemirror_mode": {
    "name": "ipython",
    "version": 3
   },
   "file_extension": ".py",
   "mimetype": "text/x-python",
   "name": "python",
   "nbconvert_exporter": "python",
   "pygments_lexer": "ipython3",
   "version": "3.12.8"
  },
  "source_map": [
   16
  ]
 },
 "nbformat": 4,
 "nbformat_minor": 5
}